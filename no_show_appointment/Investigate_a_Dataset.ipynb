{
 "cells": [
  {
   "cell_type": "markdown",
   "metadata": {},
   "source": [
    "# Project: Investigating the No-show Appointment Booking Dataset\n",
    "\n",
    "## Table of Contents\n",
    "<ul>\n",
    "<li><a href=\"#intro\">Introduction</a></li>\n",
    "<li><a href=\"#wrangling\">Data Wrangling</a></li>\n",
    "<li><a href=\"#eda\">Exploratory Data Analysis</a></li>\n",
    "<li><a href=\"#conclusions\">Conclusions</a></li>\n",
    "</ul>"
   ]
  },
  {
   "cell_type": "markdown",
   "metadata": {},
   "source": [
    "<a id='intro'></a>\n",
    "## Introduction\n",
    "\n",
    "### Dataset Description \n",
    "\n",
    "The available dataset has information from 100k medical appointments in Brazil and is focused on the question of whether or not patients showed up for their appointment. The data is available through [here](https://docs.google.com/document/d/e/2PACX-1vTlVmknRRnfy_4eTrjw5hYGaiQim5ctr9naaRd4V9du2B5bxpd8FEH3KtDgp8qVekw7Cj1GLk1IXdZi/pub?embedded=True). The data dictionary is presented below (as gotten from [here](https://www.kaggle.com/datasets/joniarroba/noshowappointments)):\n",
    "\n",
    "|S/N|Column|Description\n",
    "| -: | -: | -: |\n",
    "|01|PatientId|Identification of a patient |\n",
    "|02|AppointmentID | Identification of each appointment |\n",
    "|03|Gender | Male or Female |\n",
    "|04|AppointmentDay | The day they have to visit the doctor. |\n",
    "|05|ScheduleDay | The day someone called or registered the appointment |\n",
    "|06|Age | How old is the patient |\n",
    "|07|Neighbourhood | Where the appointment takes place |\n",
    "|08|Scholarship | True of False |\n",
    "|09|Hipertension | True or False |\n",
    "|10|Diabetes | True or False |\n",
    "|11|Alcoholism | True or False |\n",
    "|12|Handcap | True or False |\n",
    "|13|SMS_received | 1 or more messages sent to the patient |\n",
    "|14|No-show | True or False |\n",
    "\n",
    "\n",
    "### Question(s) for Analysis\n",
    "\n",
    "1. Does receiving SMS increase a patient's chance of making it to their appointment?\n",
    "2. Does the presence of a medical condition increase people's chances of meeting up with their appointments?\n",
    "3. Does time between booking an appointment and your given date affect the visit?\n"
   ]
  },
  {
   "cell_type": "code",
   "execution_count": 1,
   "metadata": {},
   "outputs": [],
   "source": [
    "# importing necessary libraries\n",
    "import pandas as pd\n",
    "import numpy as np\n",
    "import matplotlib.pyplot as plt\n",
    "%matplotlib inline"
   ]
  },
  {
   "cell_type": "markdown",
   "metadata": {},
   "source": [
    "<a id='wrangling'></a>\n",
    "## Data Wrangling"
   ]
  },
  {
   "cell_type": "code",
   "execution_count": 2,
   "metadata": {},
   "outputs": [
    {
     "data": {
      "text/html": [
       "<div>\n",
       "<style scoped>\n",
       "    .dataframe tbody tr th:only-of-type {\n",
       "        vertical-align: middle;\n",
       "    }\n",
       "\n",
       "    .dataframe tbody tr th {\n",
       "        vertical-align: top;\n",
       "    }\n",
       "\n",
       "    .dataframe thead th {\n",
       "        text-align: right;\n",
       "    }\n",
       "</style>\n",
       "<table border=\"1\" class=\"dataframe\">\n",
       "  <thead>\n",
       "    <tr style=\"text-align: right;\">\n",
       "      <th></th>\n",
       "      <th>PatientId</th>\n",
       "      <th>AppointmentID</th>\n",
       "      <th>Gender</th>\n",
       "      <th>ScheduledDay</th>\n",
       "      <th>AppointmentDay</th>\n",
       "      <th>Age</th>\n",
       "      <th>Neighbourhood</th>\n",
       "      <th>Scholarship</th>\n",
       "      <th>Hipertension</th>\n",
       "      <th>Diabetes</th>\n",
       "      <th>Alcoholism</th>\n",
       "      <th>Handcap</th>\n",
       "      <th>SMS_received</th>\n",
       "      <th>No-show</th>\n",
       "    </tr>\n",
       "  </thead>\n",
       "  <tbody>\n",
       "    <tr>\n",
       "      <th>0</th>\n",
       "      <td>2.987250e+13</td>\n",
       "      <td>5642903</td>\n",
       "      <td>F</td>\n",
       "      <td>2016-04-29T18:38:08Z</td>\n",
       "      <td>2016-04-29T00:00:00Z</td>\n",
       "      <td>62</td>\n",
       "      <td>JARDIM DA PENHA</td>\n",
       "      <td>0</td>\n",
       "      <td>1</td>\n",
       "      <td>0</td>\n",
       "      <td>0</td>\n",
       "      <td>0</td>\n",
       "      <td>0</td>\n",
       "      <td>No</td>\n",
       "    </tr>\n",
       "    <tr>\n",
       "      <th>1</th>\n",
       "      <td>5.589978e+14</td>\n",
       "      <td>5642503</td>\n",
       "      <td>M</td>\n",
       "      <td>2016-04-29T16:08:27Z</td>\n",
       "      <td>2016-04-29T00:00:00Z</td>\n",
       "      <td>56</td>\n",
       "      <td>JARDIM DA PENHA</td>\n",
       "      <td>0</td>\n",
       "      <td>0</td>\n",
       "      <td>0</td>\n",
       "      <td>0</td>\n",
       "      <td>0</td>\n",
       "      <td>0</td>\n",
       "      <td>No</td>\n",
       "    </tr>\n",
       "    <tr>\n",
       "      <th>2</th>\n",
       "      <td>4.262962e+12</td>\n",
       "      <td>5642549</td>\n",
       "      <td>F</td>\n",
       "      <td>2016-04-29T16:19:04Z</td>\n",
       "      <td>2016-04-29T00:00:00Z</td>\n",
       "      <td>62</td>\n",
       "      <td>MATA DA PRAIA</td>\n",
       "      <td>0</td>\n",
       "      <td>0</td>\n",
       "      <td>0</td>\n",
       "      <td>0</td>\n",
       "      <td>0</td>\n",
       "      <td>0</td>\n",
       "      <td>No</td>\n",
       "    </tr>\n",
       "    <tr>\n",
       "      <th>3</th>\n",
       "      <td>8.679512e+11</td>\n",
       "      <td>5642828</td>\n",
       "      <td>F</td>\n",
       "      <td>2016-04-29T17:29:31Z</td>\n",
       "      <td>2016-04-29T00:00:00Z</td>\n",
       "      <td>8</td>\n",
       "      <td>PONTAL DE CAMBURI</td>\n",
       "      <td>0</td>\n",
       "      <td>0</td>\n",
       "      <td>0</td>\n",
       "      <td>0</td>\n",
       "      <td>0</td>\n",
       "      <td>0</td>\n",
       "      <td>No</td>\n",
       "    </tr>\n",
       "    <tr>\n",
       "      <th>4</th>\n",
       "      <td>8.841186e+12</td>\n",
       "      <td>5642494</td>\n",
       "      <td>F</td>\n",
       "      <td>2016-04-29T16:07:23Z</td>\n",
       "      <td>2016-04-29T00:00:00Z</td>\n",
       "      <td>56</td>\n",
       "      <td>JARDIM DA PENHA</td>\n",
       "      <td>0</td>\n",
       "      <td>1</td>\n",
       "      <td>1</td>\n",
       "      <td>0</td>\n",
       "      <td>0</td>\n",
       "      <td>0</td>\n",
       "      <td>No</td>\n",
       "    </tr>\n",
       "  </tbody>\n",
       "</table>\n",
       "</div>"
      ],
      "text/plain": [
       "      PatientId  AppointmentID Gender          ScheduledDay  \\\n",
       "0  2.987250e+13        5642903      F  2016-04-29T18:38:08Z   \n",
       "1  5.589978e+14        5642503      M  2016-04-29T16:08:27Z   \n",
       "2  4.262962e+12        5642549      F  2016-04-29T16:19:04Z   \n",
       "3  8.679512e+11        5642828      F  2016-04-29T17:29:31Z   \n",
       "4  8.841186e+12        5642494      F  2016-04-29T16:07:23Z   \n",
       "\n",
       "         AppointmentDay  Age      Neighbourhood  Scholarship  Hipertension  \\\n",
       "0  2016-04-29T00:00:00Z   62    JARDIM DA PENHA            0             1   \n",
       "1  2016-04-29T00:00:00Z   56    JARDIM DA PENHA            0             0   \n",
       "2  2016-04-29T00:00:00Z   62      MATA DA PRAIA            0             0   \n",
       "3  2016-04-29T00:00:00Z    8  PONTAL DE CAMBURI            0             0   \n",
       "4  2016-04-29T00:00:00Z   56    JARDIM DA PENHA            0             1   \n",
       "\n",
       "   Diabetes  Alcoholism  Handcap  SMS_received No-show  \n",
       "0         0           0        0             0      No  \n",
       "1         0           0        0             0      No  \n",
       "2         0           0        0             0      No  \n",
       "3         0           0        0             0      No  \n",
       "4         1           0        0             0      No  "
      ]
     },
     "execution_count": 2,
     "metadata": {},
     "output_type": "execute_result"
    }
   ],
   "source": [
    "# load data and preview\n",
    "no_show = pd.read_csv(\"noshowappointments-kagglev2-may-2016.csv\")\n",
    "no_show.head()"
   ]
  },
  {
   "cell_type": "code",
   "execution_count": 3,
   "metadata": {},
   "outputs": [
    {
     "data": {
      "text/plain": [
       "(110527, 14)"
      ]
     },
     "execution_count": 3,
     "metadata": {},
     "output_type": "execute_result"
    }
   ],
   "source": [
    "no_show.shape"
   ]
  },
  {
   "cell_type": "code",
   "execution_count": 4,
   "metadata": {},
   "outputs": [
    {
     "name": "stdout",
     "output_type": "stream",
     "text": [
      "<class 'pandas.core.frame.DataFrame'>\n",
      "RangeIndex: 110527 entries, 0 to 110526\n",
      "Data columns (total 14 columns):\n",
      " #   Column          Non-Null Count   Dtype  \n",
      "---  ------          --------------   -----  \n",
      " 0   PatientId       110527 non-null  float64\n",
      " 1   AppointmentID   110527 non-null  int64  \n",
      " 2   Gender          110527 non-null  object \n",
      " 3   ScheduledDay    110527 non-null  object \n",
      " 4   AppointmentDay  110527 non-null  object \n",
      " 5   Age             110527 non-null  int64  \n",
      " 6   Neighbourhood   110527 non-null  object \n",
      " 7   Scholarship     110527 non-null  int64  \n",
      " 8   Hipertension    110527 non-null  int64  \n",
      " 9   Diabetes        110527 non-null  int64  \n",
      " 10  Alcoholism      110527 non-null  int64  \n",
      " 11  Handcap         110527 non-null  int64  \n",
      " 12  SMS_received    110527 non-null  int64  \n",
      " 13  No-show         110527 non-null  object \n",
      "dtypes: float64(1), int64(8), object(5)\n",
      "memory usage: 11.8+ MB\n"
     ]
    }
   ],
   "source": [
    "no_show.info()"
   ]
  },
  {
   "cell_type": "code",
   "execution_count": 5,
   "metadata": {},
   "outputs": [
    {
     "data": {
      "text/html": [
       "<div>\n",
       "<style scoped>\n",
       "    .dataframe tbody tr th:only-of-type {\n",
       "        vertical-align: middle;\n",
       "    }\n",
       "\n",
       "    .dataframe tbody tr th {\n",
       "        vertical-align: top;\n",
       "    }\n",
       "\n",
       "    .dataframe thead th {\n",
       "        text-align: right;\n",
       "    }\n",
       "</style>\n",
       "<table border=\"1\" class=\"dataframe\">\n",
       "  <thead>\n",
       "    <tr style=\"text-align: right;\">\n",
       "      <th></th>\n",
       "      <th>PatientId</th>\n",
       "      <th>AppointmentID</th>\n",
       "      <th>Age</th>\n",
       "      <th>Scholarship</th>\n",
       "      <th>Hipertension</th>\n",
       "      <th>Diabetes</th>\n",
       "      <th>Alcoholism</th>\n",
       "      <th>Handcap</th>\n",
       "      <th>SMS_received</th>\n",
       "    </tr>\n",
       "  </thead>\n",
       "  <tbody>\n",
       "    <tr>\n",
       "      <th>count</th>\n",
       "      <td>1.105270e+05</td>\n",
       "      <td>1.105270e+05</td>\n",
       "      <td>110527.000000</td>\n",
       "      <td>110527.000000</td>\n",
       "      <td>110527.000000</td>\n",
       "      <td>110527.000000</td>\n",
       "      <td>110527.000000</td>\n",
       "      <td>110527.000000</td>\n",
       "      <td>110527.000000</td>\n",
       "    </tr>\n",
       "    <tr>\n",
       "      <th>mean</th>\n",
       "      <td>1.474963e+14</td>\n",
       "      <td>5.675305e+06</td>\n",
       "      <td>37.088874</td>\n",
       "      <td>0.098266</td>\n",
       "      <td>0.197246</td>\n",
       "      <td>0.071865</td>\n",
       "      <td>0.030400</td>\n",
       "      <td>0.022248</td>\n",
       "      <td>0.321026</td>\n",
       "    </tr>\n",
       "    <tr>\n",
       "      <th>std</th>\n",
       "      <td>2.560949e+14</td>\n",
       "      <td>7.129575e+04</td>\n",
       "      <td>23.110205</td>\n",
       "      <td>0.297675</td>\n",
       "      <td>0.397921</td>\n",
       "      <td>0.258265</td>\n",
       "      <td>0.171686</td>\n",
       "      <td>0.161543</td>\n",
       "      <td>0.466873</td>\n",
       "    </tr>\n",
       "    <tr>\n",
       "      <th>min</th>\n",
       "      <td>3.921784e+04</td>\n",
       "      <td>5.030230e+06</td>\n",
       "      <td>-1.000000</td>\n",
       "      <td>0.000000</td>\n",
       "      <td>0.000000</td>\n",
       "      <td>0.000000</td>\n",
       "      <td>0.000000</td>\n",
       "      <td>0.000000</td>\n",
       "      <td>0.000000</td>\n",
       "    </tr>\n",
       "    <tr>\n",
       "      <th>25%</th>\n",
       "      <td>4.172614e+12</td>\n",
       "      <td>5.640286e+06</td>\n",
       "      <td>18.000000</td>\n",
       "      <td>0.000000</td>\n",
       "      <td>0.000000</td>\n",
       "      <td>0.000000</td>\n",
       "      <td>0.000000</td>\n",
       "      <td>0.000000</td>\n",
       "      <td>0.000000</td>\n",
       "    </tr>\n",
       "    <tr>\n",
       "      <th>50%</th>\n",
       "      <td>3.173184e+13</td>\n",
       "      <td>5.680573e+06</td>\n",
       "      <td>37.000000</td>\n",
       "      <td>0.000000</td>\n",
       "      <td>0.000000</td>\n",
       "      <td>0.000000</td>\n",
       "      <td>0.000000</td>\n",
       "      <td>0.000000</td>\n",
       "      <td>0.000000</td>\n",
       "    </tr>\n",
       "    <tr>\n",
       "      <th>75%</th>\n",
       "      <td>9.439172e+13</td>\n",
       "      <td>5.725524e+06</td>\n",
       "      <td>55.000000</td>\n",
       "      <td>0.000000</td>\n",
       "      <td>0.000000</td>\n",
       "      <td>0.000000</td>\n",
       "      <td>0.000000</td>\n",
       "      <td>0.000000</td>\n",
       "      <td>1.000000</td>\n",
       "    </tr>\n",
       "    <tr>\n",
       "      <th>max</th>\n",
       "      <td>9.999816e+14</td>\n",
       "      <td>5.790484e+06</td>\n",
       "      <td>115.000000</td>\n",
       "      <td>1.000000</td>\n",
       "      <td>1.000000</td>\n",
       "      <td>1.000000</td>\n",
       "      <td>1.000000</td>\n",
       "      <td>4.000000</td>\n",
       "      <td>1.000000</td>\n",
       "    </tr>\n",
       "  </tbody>\n",
       "</table>\n",
       "</div>"
      ],
      "text/plain": [
       "          PatientId  AppointmentID            Age    Scholarship  \\\n",
       "count  1.105270e+05   1.105270e+05  110527.000000  110527.000000   \n",
       "mean   1.474963e+14   5.675305e+06      37.088874       0.098266   \n",
       "std    2.560949e+14   7.129575e+04      23.110205       0.297675   \n",
       "min    3.921784e+04   5.030230e+06      -1.000000       0.000000   \n",
       "25%    4.172614e+12   5.640286e+06      18.000000       0.000000   \n",
       "50%    3.173184e+13   5.680573e+06      37.000000       0.000000   \n",
       "75%    9.439172e+13   5.725524e+06      55.000000       0.000000   \n",
       "max    9.999816e+14   5.790484e+06     115.000000       1.000000   \n",
       "\n",
       "        Hipertension       Diabetes     Alcoholism        Handcap  \\\n",
       "count  110527.000000  110527.000000  110527.000000  110527.000000   \n",
       "mean        0.197246       0.071865       0.030400       0.022248   \n",
       "std         0.397921       0.258265       0.171686       0.161543   \n",
       "min         0.000000       0.000000       0.000000       0.000000   \n",
       "25%         0.000000       0.000000       0.000000       0.000000   \n",
       "50%         0.000000       0.000000       0.000000       0.000000   \n",
       "75%         0.000000       0.000000       0.000000       0.000000   \n",
       "max         1.000000       1.000000       1.000000       4.000000   \n",
       "\n",
       "        SMS_received  \n",
       "count  110527.000000  \n",
       "mean        0.321026  \n",
       "std         0.466873  \n",
       "min         0.000000  \n",
       "25%         0.000000  \n",
       "50%         0.000000  \n",
       "75%         1.000000  \n",
       "max         1.000000  "
      ]
     },
     "execution_count": 5,
     "metadata": {},
     "output_type": "execute_result"
    }
   ],
   "source": [
    "no_show.describe()"
   ]
  },
  {
   "cell_type": "code",
   "execution_count": 6,
   "metadata": {},
   "outputs": [
    {
     "data": {
      "text/plain": [
       "0"
      ]
     },
     "execution_count": 6,
     "metadata": {},
     "output_type": "execute_result"
    }
   ],
   "source": [
    "no_show.duplicated().sum()"
   ]
  },
  {
   "cell_type": "code",
   "execution_count": 7,
   "metadata": {},
   "outputs": [
    {
     "data": {
      "text/plain": [
       "0"
      ]
     },
     "execution_count": 7,
     "metadata": {},
     "output_type": "execute_result"
    }
   ],
   "source": [
    "no_show.isnull().any().sum()"
   ]
  },
  {
   "cell_type": "markdown",
   "metadata": {},
   "source": [
    "- The <mark>PatientId</mark> are in exponent which we would have to convert to string so the entire value would be available. It is a category used to identify individuals instead of their personal names. This label can be duplicated since an individual can have multiple appointments.\n",
    "- <mark>AppointmentID</mark> is also a label unique to every single booking event. It must not be duplicated.\n",
    "- Based on the data dictionary, <mark>No-show</mark> has to be renamed to <mark>showed_up</mark> and have **No** mapped to 1 and **Yes** mapped to 0.\n",
    "- <mark>ScheduleDay</mark> and <mark>AppointmentDay</mark> are strings instead of datetime. \n",
    "- The column labels would be changed to lowercase for consistency.\n",
    "- There are a total of 110527 rows with no null values and no duplicates. \n",
    "- Majority of the patients are 37 years old and the highest age is 115 years old. \n",
    "- There are some ages of negative values (-1) which would be dropped because age cannot be negative.\n",
    "- Of all the conditions (Hypertension, Diabetes and Alcoholism), the highest are those with hypertension (19.7%)."
   ]
  },
  {
   "cell_type": "code",
   "execution_count": 8,
   "metadata": {},
   "outputs": [
    {
     "data": {
      "text/plain": [
       "19.72459218109602"
      ]
     },
     "execution_count": 8,
     "metadata": {},
     "output_type": "execute_result"
    }
   ],
   "source": [
    "# percentage hypertensive\n",
    "(no_show[\"Hipertension\"].sum()/110527)*100"
   ]
  },
  {
   "cell_type": "markdown",
   "metadata": {},
   "source": []
  },
  {
   "cell_type": "markdown",
   "metadata": {},
   "source": [
    "### Data Cleaning\n",
    "\n",
    "Several operations are going to be carried out on the dataset to clean it up:\n",
    "\n",
    "- All column names would be changed to lowercase for uniformity\n",
    "- Rename column <mark>No-show</mark> to <mark>showed_up</mark> and convert <mark>No to 1</mark> and <mark>Yes to 0</mark>\n",
    "- <mark>Patient ID</mark> and <mark>AppointmentID</mark> will be changed to strings because they are labels.\n",
    "- Convert <mark>Appointment Day</mark> and <mark>Schedule Day</mark> to datetime objects so that we can calculate time intervals."
   ]
  },
  {
   "cell_type": "code",
   "execution_count": 3,
   "metadata": {},
   "outputs": [],
   "source": [
    "# rename the column to lowercase for uniformity.\n",
    "no_show.rename(columns=lambda x: x.strip().lower(), inplace=True)"
   ]
  },
  {
   "cell_type": "code",
   "execution_count": 4,
   "metadata": {},
   "outputs": [],
   "source": [
    "# change Yes and No of result to 0 and 1\n",
    "no_show['no-show'] = no_show[\"no-show\"].map({'Yes':0, 'No':1})"
   ]
  },
  {
   "cell_type": "code",
   "execution_count": 5,
   "metadata": {},
   "outputs": [],
   "source": [
    "# rename no-show to showed_up\n",
    "no_show.rename(columns={\"no-show\":\"showed_up\"}, inplace=True)"
   ]
  },
  {
   "cell_type": "code",
   "execution_count": 6,
   "metadata": {},
   "outputs": [
    {
     "data": {
      "text/plain": [
       "62299"
      ]
     },
     "execution_count": 6,
     "metadata": {},
     "output_type": "execute_result"
    }
   ],
   "source": [
    "no_show.patientid.nunique()"
   ]
  },
  {
   "cell_type": "code",
   "execution_count": 7,
   "metadata": {},
   "outputs": [
    {
     "data": {
      "text/plain": [
       "110527"
      ]
     },
     "execution_count": 7,
     "metadata": {},
     "output_type": "execute_result"
    }
   ],
   "source": [
    "no_show.appointmentid.nunique()"
   ]
  },
  {
   "cell_type": "markdown",
   "metadata": {},
   "source": [
    "There are fewer unique <mark>patient IDs</mark> than appointments. We can also see that all <mark>appointmentIDs</mark> are unique. However, patients are likely to have more than one appointments at different times. \n",
    "Patient ID and Appointment ID are categories so, they will be converted to strings rather than floats and integers."
   ]
  },
  {
   "cell_type": "code",
   "execution_count": 6,
   "metadata": {},
   "outputs": [],
   "source": [
    "# convert patientID and appointmentID to string\n",
    "no_show[\"patientid\"] = no_show.patientid.astype('int64').astype(str)  #first to int, then str\n",
    "no_show[\"appointmentid\"] = no_show.appointmentid.astype(str)"
   ]
  },
  {
   "cell_type": "code",
   "execution_count": 7,
   "metadata": {},
   "outputs": [],
   "source": [
    "# convert Schedule day and Appointment day to datetime\n",
    "no_show['scheduledday']=pd.to_datetime(no_show['scheduledday'])\n",
    "no_show['appointmentday']=pd.to_datetime(no_show['appointmentday'])"
   ]
  },
  {
   "cell_type": "code",
   "execution_count": 11,
   "metadata": {},
   "outputs": [
    {
     "name": "stdout",
     "output_type": "stream",
     "text": [
      "<class 'pandas.core.frame.DataFrame'>\n",
      "RangeIndex: 110527 entries, 0 to 110526\n",
      "Data columns (total 14 columns):\n",
      " #   Column          Non-Null Count   Dtype              \n",
      "---  ------          --------------   -----              \n",
      " 0   patientid       110527 non-null  object             \n",
      " 1   appointmentid   110527 non-null  object             \n",
      " 2   gender          110527 non-null  object             \n",
      " 3   scheduledday    110527 non-null  datetime64[ns, UTC]\n",
      " 4   appointmentday  110527 non-null  datetime64[ns, UTC]\n",
      " 5   age             110527 non-null  int64              \n",
      " 6   neighbourhood   110527 non-null  object             \n",
      " 7   scholarship     110527 non-null  int64              \n",
      " 8   hipertension    110527 non-null  int64              \n",
      " 9   diabetes        110527 non-null  int64              \n",
      " 10  alcoholism      110527 non-null  int64              \n",
      " 11  handcap         110527 non-null  int64              \n",
      " 12  sms_received    110527 non-null  int64              \n",
      " 13  showed_up       110527 non-null  int64              \n",
      "dtypes: datetime64[ns, UTC](2), int64(8), object(4)\n",
      "memory usage: 11.8+ MB\n"
     ]
    }
   ],
   "source": [
    "no_show.info()"
   ]
  },
  {
   "cell_type": "code",
   "execution_count": 12,
   "metadata": {},
   "outputs": [
    {
     "data": {
      "text/html": [
       "<div>\n",
       "<style scoped>\n",
       "    .dataframe tbody tr th:only-of-type {\n",
       "        vertical-align: middle;\n",
       "    }\n",
       "\n",
       "    .dataframe tbody tr th {\n",
       "        vertical-align: top;\n",
       "    }\n",
       "\n",
       "    .dataframe thead th {\n",
       "        text-align: right;\n",
       "    }\n",
       "</style>\n",
       "<table border=\"1\" class=\"dataframe\">\n",
       "  <thead>\n",
       "    <tr style=\"text-align: right;\">\n",
       "      <th></th>\n",
       "      <th>patientid</th>\n",
       "      <th>appointmentid</th>\n",
       "      <th>gender</th>\n",
       "      <th>scheduledday</th>\n",
       "      <th>appointmentday</th>\n",
       "      <th>age</th>\n",
       "      <th>neighbourhood</th>\n",
       "      <th>scholarship</th>\n",
       "      <th>hipertension</th>\n",
       "      <th>diabetes</th>\n",
       "      <th>alcoholism</th>\n",
       "      <th>handcap</th>\n",
       "      <th>sms_received</th>\n",
       "      <th>showed_up</th>\n",
       "    </tr>\n",
       "  </thead>\n",
       "  <tbody>\n",
       "    <tr>\n",
       "      <th>59</th>\n",
       "      <td>71844284745331</td>\n",
       "      <td>5638545</td>\n",
       "      <td>F</td>\n",
       "      <td>2016-04-29 08:08:43+00:00</td>\n",
       "      <td>2016-04-29 00:00:00+00:00</td>\n",
       "      <td>0</td>\n",
       "      <td>CONQUISTA</td>\n",
       "      <td>0</td>\n",
       "      <td>0</td>\n",
       "      <td>0</td>\n",
       "      <td>0</td>\n",
       "      <td>0</td>\n",
       "      <td>0</td>\n",
       "      <td>1</td>\n",
       "    </tr>\n",
       "    <tr>\n",
       "      <th>63</th>\n",
       "      <td>236623344873175</td>\n",
       "      <td>5628286</td>\n",
       "      <td>M</td>\n",
       "      <td>2016-04-27 10:46:12+00:00</td>\n",
       "      <td>2016-04-29 00:00:00+00:00</td>\n",
       "      <td>0</td>\n",
       "      <td>SÃO BENEDITO</td>\n",
       "      <td>0</td>\n",
       "      <td>0</td>\n",
       "      <td>0</td>\n",
       "      <td>0</td>\n",
       "      <td>0</td>\n",
       "      <td>0</td>\n",
       "      <td>1</td>\n",
       "    </tr>\n",
       "    <tr>\n",
       "      <th>64</th>\n",
       "      <td>188517384712787</td>\n",
       "      <td>5616082</td>\n",
       "      <td>M</td>\n",
       "      <td>2016-04-25 13:28:21+00:00</td>\n",
       "      <td>2016-04-29 00:00:00+00:00</td>\n",
       "      <td>0</td>\n",
       "      <td>ILHA DAS CAIEIRAS</td>\n",
       "      <td>0</td>\n",
       "      <td>0</td>\n",
       "      <td>0</td>\n",
       "      <td>0</td>\n",
       "      <td>0</td>\n",
       "      <td>1</td>\n",
       "      <td>1</td>\n",
       "    </tr>\n",
       "    <tr>\n",
       "      <th>65</th>\n",
       "      <td>271881817799985</td>\n",
       "      <td>5628321</td>\n",
       "      <td>M</td>\n",
       "      <td>2016-04-27 10:48:50+00:00</td>\n",
       "      <td>2016-04-29 00:00:00+00:00</td>\n",
       "      <td>0</td>\n",
       "      <td>CONQUISTA</td>\n",
       "      <td>0</td>\n",
       "      <td>0</td>\n",
       "      <td>0</td>\n",
       "      <td>0</td>\n",
       "      <td>0</td>\n",
       "      <td>0</td>\n",
       "      <td>1</td>\n",
       "    </tr>\n",
       "    <tr>\n",
       "      <th>67</th>\n",
       "      <td>86471282513499</td>\n",
       "      <td>5639264</td>\n",
       "      <td>F</td>\n",
       "      <td>2016-04-29 08:53:02+00:00</td>\n",
       "      <td>2016-04-29 00:00:00+00:00</td>\n",
       "      <td>0</td>\n",
       "      <td>NOVA PALESTINA</td>\n",
       "      <td>0</td>\n",
       "      <td>0</td>\n",
       "      <td>0</td>\n",
       "      <td>0</td>\n",
       "      <td>0</td>\n",
       "      <td>0</td>\n",
       "      <td>1</td>\n",
       "    </tr>\n",
       "  </tbody>\n",
       "</table>\n",
       "</div>"
      ],
      "text/plain": [
       "          patientid appointmentid gender              scheduledday  \\\n",
       "59   71844284745331       5638545      F 2016-04-29 08:08:43+00:00   \n",
       "63  236623344873175       5628286      M 2016-04-27 10:46:12+00:00   \n",
       "64  188517384712787       5616082      M 2016-04-25 13:28:21+00:00   \n",
       "65  271881817799985       5628321      M 2016-04-27 10:48:50+00:00   \n",
       "67   86471282513499       5639264      F 2016-04-29 08:53:02+00:00   \n",
       "\n",
       "              appointmentday  age      neighbourhood  scholarship  \\\n",
       "59 2016-04-29 00:00:00+00:00    0          CONQUISTA            0   \n",
       "63 2016-04-29 00:00:00+00:00    0       SÃO BENEDITO            0   \n",
       "64 2016-04-29 00:00:00+00:00    0  ILHA DAS CAIEIRAS            0   \n",
       "65 2016-04-29 00:00:00+00:00    0          CONQUISTA            0   \n",
       "67 2016-04-29 00:00:00+00:00    0     NOVA PALESTINA            0   \n",
       "\n",
       "    hipertension  diabetes  alcoholism  handcap  sms_received  showed_up  \n",
       "59             0         0           0        0             0          1  \n",
       "63             0         0           0        0             0          1  \n",
       "64             0         0           0        0             1          1  \n",
       "65             0         0           0        0             0          1  \n",
       "67             0         0           0        0             0          1  "
      ]
     },
     "execution_count": 12,
     "metadata": {},
     "output_type": "execute_result"
    }
   ],
   "source": [
    "# the description earlier revealed that some ages are negative. \n",
    "# let's check for those less than 1\n",
    "zero_age = no_show[no_show.age < 1]\n",
    "zero_age.head()"
   ]
  },
  {
   "cell_type": "code",
   "execution_count": 13,
   "metadata": {},
   "outputs": [
    {
     "data": {
      "text/html": [
       "<div>\n",
       "<style scoped>\n",
       "    .dataframe tbody tr th:only-of-type {\n",
       "        vertical-align: middle;\n",
       "    }\n",
       "\n",
       "    .dataframe tbody tr th {\n",
       "        vertical-align: top;\n",
       "    }\n",
       "\n",
       "    .dataframe thead th {\n",
       "        text-align: right;\n",
       "    }\n",
       "</style>\n",
       "<table border=\"1\" class=\"dataframe\">\n",
       "  <thead>\n",
       "    <tr style=\"text-align: right;\">\n",
       "      <th></th>\n",
       "      <th>patientid</th>\n",
       "      <th>appointmentid</th>\n",
       "      <th>gender</th>\n",
       "      <th>scheduledday</th>\n",
       "      <th>appointmentday</th>\n",
       "      <th>age</th>\n",
       "      <th>neighbourhood</th>\n",
       "      <th>scholarship</th>\n",
       "      <th>hipertension</th>\n",
       "      <th>diabetes</th>\n",
       "      <th>alcoholism</th>\n",
       "      <th>handcap</th>\n",
       "      <th>sms_received</th>\n",
       "      <th>showed_up</th>\n",
       "    </tr>\n",
       "  </thead>\n",
       "  <tbody>\n",
       "    <tr>\n",
       "      <th>109647</th>\n",
       "      <td>56352583933331</td>\n",
       "      <td>5691391</td>\n",
       "      <td>M</td>\n",
       "      <td>2016-05-12 12:35:04+00:00</td>\n",
       "      <td>2016-06-08 00:00:00+00:00</td>\n",
       "      <td>0</td>\n",
       "      <td>FORTE SÃO JOÃO</td>\n",
       "      <td>0</td>\n",
       "      <td>0</td>\n",
       "      <td>0</td>\n",
       "      <td>0</td>\n",
       "      <td>0</td>\n",
       "      <td>0</td>\n",
       "      <td>0</td>\n",
       "    </tr>\n",
       "    <tr>\n",
       "      <th>109648</th>\n",
       "      <td>518828176875</td>\n",
       "      <td>5758336</td>\n",
       "      <td>F</td>\n",
       "      <td>2016-06-01 10:37:06+00:00</td>\n",
       "      <td>2016-06-01 00:00:00+00:00</td>\n",
       "      <td>24</td>\n",
       "      <td>FORTE SÃO JOÃO</td>\n",
       "      <td>0</td>\n",
       "      <td>0</td>\n",
       "      <td>0</td>\n",
       "      <td>0</td>\n",
       "      <td>0</td>\n",
       "      <td>0</td>\n",
       "      <td>1</td>\n",
       "    </tr>\n",
       "    <tr>\n",
       "      <th>109649</th>\n",
       "      <td>59418113659912</td>\n",
       "      <td>5659193</td>\n",
       "      <td>M</td>\n",
       "      <td>2016-05-04 13:21:32+00:00</td>\n",
       "      <td>2016-06-01 00:00:00+00:00</td>\n",
       "      <td>0</td>\n",
       "      <td>FORTE SÃO JOÃO</td>\n",
       "      <td>0</td>\n",
       "      <td>0</td>\n",
       "      <td>0</td>\n",
       "      <td>0</td>\n",
       "      <td>0</td>\n",
       "      <td>0</td>\n",
       "      <td>1</td>\n",
       "    </tr>\n",
       "    <tr>\n",
       "      <th>109650</th>\n",
       "      <td>56352583933331</td>\n",
       "      <td>5691390</td>\n",
       "      <td>M</td>\n",
       "      <td>2016-05-12 12:35:04+00:00</td>\n",
       "      <td>2016-06-08 00:00:00+00:00</td>\n",
       "      <td>0</td>\n",
       "      <td>FORTE SÃO JOÃO</td>\n",
       "      <td>0</td>\n",
       "      <td>0</td>\n",
       "      <td>0</td>\n",
       "      <td>0</td>\n",
       "      <td>0</td>\n",
       "      <td>0</td>\n",
       "      <td>0</td>\n",
       "    </tr>\n",
       "  </tbody>\n",
       "</table>\n",
       "</div>"
      ],
      "text/plain": [
       "             patientid appointmentid gender              scheduledday  \\\n",
       "109647  56352583933331       5691391      M 2016-05-12 12:35:04+00:00   \n",
       "109648    518828176875       5758336      F 2016-06-01 10:37:06+00:00   \n",
       "109649  59418113659912       5659193      M 2016-05-04 13:21:32+00:00   \n",
       "109650  56352583933331       5691390      M 2016-05-12 12:35:04+00:00   \n",
       "\n",
       "                  appointmentday  age   neighbourhood  scholarship  \\\n",
       "109647 2016-06-08 00:00:00+00:00    0  FORTE SÃO JOÃO            0   \n",
       "109648 2016-06-01 00:00:00+00:00   24  FORTE SÃO JOÃO            0   \n",
       "109649 2016-06-01 00:00:00+00:00    0  FORTE SÃO JOÃO            0   \n",
       "109650 2016-06-08 00:00:00+00:00    0  FORTE SÃO JOÃO            0   \n",
       "\n",
       "        hipertension  diabetes  alcoholism  handcap  sms_received  showed_up  \n",
       "109647             0         0           0        0             0          0  \n",
       "109648             0         0           0        0             0          1  \n",
       "109649             0         0           0        0             0          1  \n",
       "109650             0         0           0        0             0          0  "
      ]
     },
     "execution_count": 13,
     "metadata": {},
     "output_type": "execute_result"
    }
   ],
   "source": [
    "# inspect two rows to confirm the presence of duplicate values hidden under different appointmentID\n",
    "no_show.loc[109647:109650]"
   ]
  },
  {
   "cell_type": "code",
   "execution_count": 14,
   "metadata": {},
   "outputs": [
    {
     "data": {
      "text/html": [
       "<div>\n",
       "<style scoped>\n",
       "    .dataframe tbody tr th:only-of-type {\n",
       "        vertical-align: middle;\n",
       "    }\n",
       "\n",
       "    .dataframe tbody tr th {\n",
       "        vertical-align: top;\n",
       "    }\n",
       "\n",
       "    .dataframe thead th {\n",
       "        text-align: right;\n",
       "    }\n",
       "</style>\n",
       "<table border=\"1\" class=\"dataframe\">\n",
       "  <thead>\n",
       "    <tr style=\"text-align: right;\">\n",
       "      <th></th>\n",
       "      <th>patientid</th>\n",
       "      <th>appointmentid</th>\n",
       "      <th>gender</th>\n",
       "      <th>scheduledday</th>\n",
       "      <th>appointmentday</th>\n",
       "      <th>age</th>\n",
       "      <th>neighbourhood</th>\n",
       "      <th>scholarship</th>\n",
       "      <th>hipertension</th>\n",
       "      <th>diabetes</th>\n",
       "      <th>alcoholism</th>\n",
       "      <th>handcap</th>\n",
       "      <th>sms_received</th>\n",
       "      <th>showed_up</th>\n",
       "    </tr>\n",
       "  </thead>\n",
       "  <tbody>\n",
       "    <tr>\n",
       "      <th>99832</th>\n",
       "      <td>465943158731293</td>\n",
       "      <td>5775010</td>\n",
       "      <td>F</td>\n",
       "      <td>2016-06-06 08:58:13+00:00</td>\n",
       "      <td>2016-06-06 00:00:00+00:00</td>\n",
       "      <td>-1</td>\n",
       "      <td>ROMÃO</td>\n",
       "      <td>0</td>\n",
       "      <td>0</td>\n",
       "      <td>0</td>\n",
       "      <td>0</td>\n",
       "      <td>0</td>\n",
       "      <td>0</td>\n",
       "      <td>1</td>\n",
       "    </tr>\n",
       "  </tbody>\n",
       "</table>\n",
       "</div>"
      ],
      "text/plain": [
       "             patientid appointmentid gender              scheduledday  \\\n",
       "99832  465943158731293       5775010      F 2016-06-06 08:58:13+00:00   \n",
       "\n",
       "                 appointmentday  age neighbourhood  scholarship  hipertension  \\\n",
       "99832 2016-06-06 00:00:00+00:00   -1         ROMÃO            0             0   \n",
       "\n",
       "       diabetes  alcoholism  handcap  sms_received  showed_up  \n",
       "99832         0           0        0             0          1  "
      ]
     },
     "execution_count": 14,
     "metadata": {},
     "output_type": "execute_result"
    }
   ],
   "source": [
    "# getting ages that are truly negative\n",
    "negative_age = no_show[no_show.age < 0]\n",
    "negative_age"
   ]
  },
  {
   "cell_type": "code",
   "execution_count": 8,
   "metadata": {},
   "outputs": [],
   "source": [
    "# drop the row with a negative age\n",
    "no_show.drop(no_show[no_show[\"age\"] == -1].index, inplace=True)"
   ]
  },
  {
   "cell_type": "markdown",
   "metadata": {},
   "source": [
    "Inspecting the <mark>Age</mark> column shows an anomaly which was not documented. 3540 rows of age appear to be 0. For clarity, those would be assumed as ages for patients less than 1 year. We also succeeded in revealing the <mark>Age</mark> with negative value and dropped it.\n",
    "\n",
    "Using the <mark>Ages < 1</mark> info table above, one would notice that there are some duplicate values not detected by python. **See** <mark>index 109647 and 109650</mark>. This is because, the <mark>Appointment IDs</mark> are different but the <mark>Patient ID</mark>, <mark>Scheduled Day</mark> and <mark>Appointment Day</mark> turns out to be the same. Further inspection shows that their values for <mark>Showed Up</mark> are also the same. These kind of errors might have been introduced while the website was writing to the database.\n",
    "\n",
    "According to the documentation [here](\n",
    "https://www.kaggle.com/datasets/joniarroba/noshowappointments), <mark>handicap</mark> column is boolean while <mark>SMS</mark> can take several values depending on the number of SMS sent. Looking at the dataset, there seems to be a conflict. I will convert <mark>handicap</mark> to reflect the initial documentation. Although, an argument [here](\n",
    "https://www.kaggle.com/datasets/joniarroba/noshowappointments/discussion/29699) believes otherwise.\n",
    "\n",
    "- <mark>Appointment ID</mark> would be dropped\n",
    "- Duplicate values will be sought in <mark>Patient ID</mark>\n",
    "- convert <mark>handicap</mark> to <mark>0</mark> and other values (2 to 4) becomes <mark>1</mark>"
   ]
  },
  {
   "cell_type": "code",
   "execution_count": 9,
   "metadata": {},
   "outputs": [],
   "source": [
    "# drop appointment ID since it doesn't have much for our analysis\n",
    "no_show.drop(\"appointmentid\", axis=1, inplace=True)"
   ]
  },
  {
   "cell_type": "code",
   "execution_count": 17,
   "metadata": {},
   "outputs": [
    {
     "data": {
      "text/plain": [
       "618"
      ]
     },
     "execution_count": 17,
     "metadata": {},
     "output_type": "execute_result"
    }
   ],
   "source": [
    "# seek for duplicates and drop them\n",
    "no_show.duplicated().sum()"
   ]
  },
  {
   "cell_type": "code",
   "execution_count": 10,
   "metadata": {},
   "outputs": [],
   "source": [
    "no_show.drop_duplicates(inplace=True)"
   ]
  },
  {
   "cell_type": "markdown",
   "metadata": {},
   "source": [
    "Dropping the <mark>Appointment ID</mark> revealed some of the errors in writing our file. So we have 618 duplicated items. Although we dropped duplicates, there are still some duplicate values in the dataset. But we will ignore that for now."
   ]
  },
  {
   "cell_type": "code",
   "execution_count": 11,
   "metadata": {},
   "outputs": [],
   "source": [
    "# make handcap boolean by converting numbers from 1 to 4 as 1\n",
    "no_show.loc[no_show[no_show.handcap > 0].index, 'handcap'] = 1"
   ]
  },
  {
   "cell_type": "code",
   "execution_count": 20,
   "metadata": {},
   "outputs": [
    {
     "data": {
      "text/html": [
       "<div>\n",
       "<style scoped>\n",
       "    .dataframe tbody tr th:only-of-type {\n",
       "        vertical-align: middle;\n",
       "    }\n",
       "\n",
       "    .dataframe tbody tr th {\n",
       "        vertical-align: top;\n",
       "    }\n",
       "\n",
       "    .dataframe thead th {\n",
       "        text-align: right;\n",
       "    }\n",
       "</style>\n",
       "<table border=\"1\" class=\"dataframe\">\n",
       "  <thead>\n",
       "    <tr style=\"text-align: right;\">\n",
       "      <th></th>\n",
       "      <th>age</th>\n",
       "      <th>scholarship</th>\n",
       "      <th>hipertension</th>\n",
       "      <th>diabetes</th>\n",
       "      <th>alcoholism</th>\n",
       "      <th>handcap</th>\n",
       "      <th>sms_received</th>\n",
       "      <th>showed_up</th>\n",
       "    </tr>\n",
       "  </thead>\n",
       "  <tbody>\n",
       "    <tr>\n",
       "      <th>count</th>\n",
       "      <td>109908.000000</td>\n",
       "      <td>109908.000000</td>\n",
       "      <td>109908.000000</td>\n",
       "      <td>109908.000000</td>\n",
       "      <td>109908.000000</td>\n",
       "      <td>109908.000000</td>\n",
       "      <td>109908.000000</td>\n",
       "      <td>109908.000000</td>\n",
       "    </tr>\n",
       "    <tr>\n",
       "      <th>mean</th>\n",
       "      <td>37.086818</td>\n",
       "      <td>0.098282</td>\n",
       "      <td>0.197238</td>\n",
       "      <td>0.071815</td>\n",
       "      <td>0.030425</td>\n",
       "      <td>0.020190</td>\n",
       "      <td>0.322834</td>\n",
       "      <td>0.798877</td>\n",
       "    </tr>\n",
       "    <tr>\n",
       "      <th>std</th>\n",
       "      <td>23.121310</td>\n",
       "      <td>0.297697</td>\n",
       "      <td>0.397915</td>\n",
       "      <td>0.258182</td>\n",
       "      <td>0.171756</td>\n",
       "      <td>0.140649</td>\n",
       "      <td>0.467562</td>\n",
       "      <td>0.400841</td>\n",
       "    </tr>\n",
       "    <tr>\n",
       "      <th>min</th>\n",
       "      <td>0.000000</td>\n",
       "      <td>0.000000</td>\n",
       "      <td>0.000000</td>\n",
       "      <td>0.000000</td>\n",
       "      <td>0.000000</td>\n",
       "      <td>0.000000</td>\n",
       "      <td>0.000000</td>\n",
       "      <td>0.000000</td>\n",
       "    </tr>\n",
       "    <tr>\n",
       "      <th>25%</th>\n",
       "      <td>18.000000</td>\n",
       "      <td>0.000000</td>\n",
       "      <td>0.000000</td>\n",
       "      <td>0.000000</td>\n",
       "      <td>0.000000</td>\n",
       "      <td>0.000000</td>\n",
       "      <td>0.000000</td>\n",
       "      <td>1.000000</td>\n",
       "    </tr>\n",
       "    <tr>\n",
       "      <th>50%</th>\n",
       "      <td>37.000000</td>\n",
       "      <td>0.000000</td>\n",
       "      <td>0.000000</td>\n",
       "      <td>0.000000</td>\n",
       "      <td>0.000000</td>\n",
       "      <td>0.000000</td>\n",
       "      <td>0.000000</td>\n",
       "      <td>1.000000</td>\n",
       "    </tr>\n",
       "    <tr>\n",
       "      <th>75%</th>\n",
       "      <td>55.000000</td>\n",
       "      <td>0.000000</td>\n",
       "      <td>0.000000</td>\n",
       "      <td>0.000000</td>\n",
       "      <td>0.000000</td>\n",
       "      <td>0.000000</td>\n",
       "      <td>1.000000</td>\n",
       "      <td>1.000000</td>\n",
       "    </tr>\n",
       "    <tr>\n",
       "      <th>max</th>\n",
       "      <td>115.000000</td>\n",
       "      <td>1.000000</td>\n",
       "      <td>1.000000</td>\n",
       "      <td>1.000000</td>\n",
       "      <td>1.000000</td>\n",
       "      <td>1.000000</td>\n",
       "      <td>1.000000</td>\n",
       "      <td>1.000000</td>\n",
       "    </tr>\n",
       "  </tbody>\n",
       "</table>\n",
       "</div>"
      ],
      "text/plain": [
       "                 age    scholarship   hipertension       diabetes  \\\n",
       "count  109908.000000  109908.000000  109908.000000  109908.000000   \n",
       "mean       37.086818       0.098282       0.197238       0.071815   \n",
       "std        23.121310       0.297697       0.397915       0.258182   \n",
       "min         0.000000       0.000000       0.000000       0.000000   \n",
       "25%        18.000000       0.000000       0.000000       0.000000   \n",
       "50%        37.000000       0.000000       0.000000       0.000000   \n",
       "75%        55.000000       0.000000       0.000000       0.000000   \n",
       "max       115.000000       1.000000       1.000000       1.000000   \n",
       "\n",
       "          alcoholism        handcap   sms_received      showed_up  \n",
       "count  109908.000000  109908.000000  109908.000000  109908.000000  \n",
       "mean        0.030425       0.020190       0.322834       0.798877  \n",
       "std         0.171756       0.140649       0.467562       0.400841  \n",
       "min         0.000000       0.000000       0.000000       0.000000  \n",
       "25%         0.000000       0.000000       0.000000       1.000000  \n",
       "50%         0.000000       0.000000       0.000000       1.000000  \n",
       "75%         0.000000       0.000000       1.000000       1.000000  \n",
       "max         1.000000       1.000000       1.000000       1.000000  "
      ]
     },
     "execution_count": 20,
     "metadata": {},
     "output_type": "execute_result"
    }
   ],
   "source": [
    "no_show.describe()"
   ]
  },
  {
   "cell_type": "markdown",
   "metadata": {},
   "source": [
    "After dropping Appointment ID, duplicate values, negative age, we are now left with 109908 rows to work with."
   ]
  },
  {
   "cell_type": "markdown",
   "metadata": {},
   "source": [
    "To be able to get the people who made it during **weekdays** vs **weekend**, we have to create a new dataframe for <mark>day of the week</mark>."
   ]
  },
  {
   "cell_type": "code",
   "execution_count": 12,
   "metadata": {},
   "outputs": [],
   "source": [
    "# create a day of the week column to identify the day patients were scheduled for appointment\n",
    "no_show[\"day_of_week\"] = no_show['appointmentday'].dt.dayofweek"
   ]
  },
  {
   "cell_type": "code",
   "execution_count": 33,
   "metadata": {},
   "outputs": [
    {
     "data": {
      "image/png": "[encoded data removed]",
      "text/plain": [
       "<Figure size 720x216 with 1 Axes>"
      ]
     },
     "metadata": {
      "needs_background": "light"
     },
     "output_type": "display_data"
    }
   ],
   "source": [
    "plt.figure(figsize = (10,3))\n",
    "plt.hist(no_show[\"day_of_week\"])\n",
    "plt.title(\"Day of the Week Appointments were Scheduled\")\n",
    "plt.show()"
   ]
  },
  {
   "cell_type": "markdown",
   "metadata": {},
   "source": [
    "Most of the appointments were scheduled from Monday to Friday with Monday to Wednesday being the busiest days.\n",
    "Let's create a new dataframe to contain the difference in days between when an appointment was booked and the day the patient visited the hospital."
   ]
  },
  {
   "cell_type": "markdown",
   "metadata": {},
   "source": [
    "To know the effects of the time of booking has on meeting up with the appointment, let's get the difference between both time. The difference can be 0 or any other positive value but cannot be negative. If we encounter negative values (scheduling day greater than the actual appointment day, we would have to drop those rows)"
   ]
  },
  {
   "cell_type": "code",
   "execution_count": 13,
   "metadata": {},
   "outputs": [],
   "source": [
    "# add a new dataframe which the difference between day the appointment was booked to the day the patient went.\n",
    "no_show['dateDifference'] = no_show['appointmentday'] - no_show['scheduledday']\n",
    "no_show['dateDifference'] = no_show['dateDifference'].astype('timedelta64[D]')"
   ]
  },
  {
   "cell_type": "code",
   "execution_count": 14,
   "metadata": {},
   "outputs": [
    {
     "data": {
      "text/plain": [
       "array([ -1.,   1.,   2.,   0.,   3.,   8.,  28.,   9.,  22.,  10.,  17.,\n",
       "        16.,  13.,  27.,  23.,  20.,  14.,  15.,  21.,  42.,  29.,  30.,\n",
       "        41.,  31.,  55.,  44.,  45.,  38.,  36.,  37.,  43.,  49.,  59.,\n",
       "        51.,  52.,  64.,  66.,  90.,  65.,  83.,  77.,  86., 114., 108.,\n",
       "        62.,  69.,  71.,  56.,  57.,  50.,  58.,  40.,  48.,  72.,  63.,\n",
       "        19.,  32.,  33.,   5.,  34.,  35.,  11.,  12.,  39.,  46.,   7.,\n",
       "         4.,   6.,  24.,  25.,  47.,  26.,  18.,  60.,  54.,  61., 175.,\n",
       "        53.,  76.,  68.,  82.,  75.,  88.,  80., 102.,  78.,  67.,  74.,\n",
       "        84., 111.,  -2.,  79.,  85.,  97.,  93., 141., 154., 161., 168.,\n",
       "       103., 132., 124.,  95.,  87.,  89., 150., 125., 126., 110., 118.,\n",
       "        73.,  70.,  81., 107., 109., 101., 121., 100., 104.,  91.,  96.,\n",
       "        92., 106.,  94.,  -7., 138., 131., 178., 116., 145., 122.])"
      ]
     },
     "execution_count": 14,
     "metadata": {},
     "output_type": "execute_result"
    }
   ],
   "source": [
    "# check to see if there are negative values in time difference\n",
    "no_show.dateDifference.unique()"
   ]
  },
  {
   "cell_type": "code",
   "execution_count": 15,
   "metadata": {},
   "outputs": [],
   "source": [
    "# drop the row with negative time difference\n",
    "no_show.drop(no_show[no_show[\"dateDifference\"] < 0].index, inplace=True)"
   ]
  },
  {
   "cell_type": "code",
   "execution_count": 27,
   "metadata": {},
   "outputs": [
    {
     "data": {
      "text/html": [
       "<div>\n",
       "<style scoped>\n",
       "    .dataframe tbody tr th:only-of-type {\n",
       "        vertical-align: middle;\n",
       "    }\n",
       "\n",
       "    .dataframe tbody tr th {\n",
       "        vertical-align: top;\n",
       "    }\n",
       "\n",
       "    .dataframe thead th {\n",
       "        text-align: right;\n",
       "    }\n",
       "</style>\n",
       "<table border=\"1\" class=\"dataframe\">\n",
       "  <thead>\n",
       "    <tr style=\"text-align: right;\">\n",
       "      <th></th>\n",
       "      <th>age</th>\n",
       "      <th>scholarship</th>\n",
       "      <th>hipertension</th>\n",
       "      <th>diabetes</th>\n",
       "      <th>alcoholism</th>\n",
       "      <th>handcap</th>\n",
       "      <th>sms_received</th>\n",
       "      <th>showed_up</th>\n",
       "      <th>day_of_week</th>\n",
       "      <th>dateDifference</th>\n",
       "    </tr>\n",
       "  </thead>\n",
       "  <tbody>\n",
       "    <tr>\n",
       "      <th>count</th>\n",
       "      <td>71409.000000</td>\n",
       "      <td>71409.000000</td>\n",
       "      <td>71409.000000</td>\n",
       "      <td>71409.000000</td>\n",
       "      <td>71409.000000</td>\n",
       "      <td>71409.000000</td>\n",
       "      <td>71409.000000</td>\n",
       "      <td>71409.000000</td>\n",
       "      <td>71409.000000</td>\n",
       "      <td>71409.000000</td>\n",
       "    </tr>\n",
       "    <tr>\n",
       "      <th>mean</th>\n",
       "      <td>38.509432</td>\n",
       "      <td>0.092691</td>\n",
       "      <td>0.208993</td>\n",
       "      <td>0.074766</td>\n",
       "      <td>0.025291</td>\n",
       "      <td>0.018051</td>\n",
       "      <td>0.496884</td>\n",
       "      <td>0.715484</td>\n",
       "      <td>1.872061</td>\n",
       "      <td>14.632217</td>\n",
       "    </tr>\n",
       "    <tr>\n",
       "      <th>std</th>\n",
       "      <td>22.939354</td>\n",
       "      <td>0.290002</td>\n",
       "      <td>0.406592</td>\n",
       "      <td>0.263016</td>\n",
       "      <td>0.157008</td>\n",
       "      <td>0.133137</td>\n",
       "      <td>0.499994</td>\n",
       "      <td>0.451187</td>\n",
       "      <td>1.369997</td>\n",
       "      <td>16.504069</td>\n",
       "    </tr>\n",
       "    <tr>\n",
       "      <th>min</th>\n",
       "      <td>0.000000</td>\n",
       "      <td>0.000000</td>\n",
       "      <td>0.000000</td>\n",
       "      <td>0.000000</td>\n",
       "      <td>0.000000</td>\n",
       "      <td>0.000000</td>\n",
       "      <td>0.000000</td>\n",
       "      <td>0.000000</td>\n",
       "      <td>0.000000</td>\n",
       "      <td>0.000000</td>\n",
       "    </tr>\n",
       "    <tr>\n",
       "      <th>25%</th>\n",
       "      <td>19.000000</td>\n",
       "      <td>0.000000</td>\n",
       "      <td>0.000000</td>\n",
       "      <td>0.000000</td>\n",
       "      <td>0.000000</td>\n",
       "      <td>0.000000</td>\n",
       "      <td>0.000000</td>\n",
       "      <td>0.000000</td>\n",
       "      <td>1.000000</td>\n",
       "      <td>3.000000</td>\n",
       "    </tr>\n",
       "    <tr>\n",
       "      <th>50%</th>\n",
       "      <td>39.000000</td>\n",
       "      <td>0.000000</td>\n",
       "      <td>0.000000</td>\n",
       "      <td>0.000000</td>\n",
       "      <td>0.000000</td>\n",
       "      <td>0.000000</td>\n",
       "      <td>0.000000</td>\n",
       "      <td>1.000000</td>\n",
       "      <td>2.000000</td>\n",
       "      <td>8.000000</td>\n",
       "    </tr>\n",
       "    <tr>\n",
       "      <th>75%</th>\n",
       "      <td>57.000000</td>\n",
       "      <td>0.000000</td>\n",
       "      <td>0.000000</td>\n",
       "      <td>0.000000</td>\n",
       "      <td>0.000000</td>\n",
       "      <td>0.000000</td>\n",
       "      <td>1.000000</td>\n",
       "      <td>1.000000</td>\n",
       "      <td>3.000000</td>\n",
       "      <td>21.000000</td>\n",
       "    </tr>\n",
       "    <tr>\n",
       "      <th>max</th>\n",
       "      <td>115.000000</td>\n",
       "      <td>1.000000</td>\n",
       "      <td>1.000000</td>\n",
       "      <td>1.000000</td>\n",
       "      <td>1.000000</td>\n",
       "      <td>1.000000</td>\n",
       "      <td>1.000000</td>\n",
       "      <td>1.000000</td>\n",
       "      <td>5.000000</td>\n",
       "      <td>178.000000</td>\n",
       "    </tr>\n",
       "  </tbody>\n",
       "</table>\n",
       "</div>"
      ],
      "text/plain": [
       "                age   scholarship  hipertension      diabetes    alcoholism  \\\n",
       "count  71409.000000  71409.000000  71409.000000  71409.000000  71409.000000   \n",
       "mean      38.509432      0.092691      0.208993      0.074766      0.025291   \n",
       "std       22.939354      0.290002      0.406592      0.263016      0.157008   \n",
       "min        0.000000      0.000000      0.000000      0.000000      0.000000   \n",
       "25%       19.000000      0.000000      0.000000      0.000000      0.000000   \n",
       "50%       39.000000      0.000000      0.000000      0.000000      0.000000   \n",
       "75%       57.000000      0.000000      0.000000      0.000000      0.000000   \n",
       "max      115.000000      1.000000      1.000000      1.000000      1.000000   \n",
       "\n",
       "            handcap  sms_received     showed_up   day_of_week  dateDifference  \n",
       "count  71409.000000  71409.000000  71409.000000  71409.000000    71409.000000  \n",
       "mean       0.018051      0.496884      0.715484      1.872061       14.632217  \n",
       "std        0.133137      0.499994      0.451187      1.369997       16.504069  \n",
       "min        0.000000      0.000000      0.000000      0.000000        0.000000  \n",
       "25%        0.000000      0.000000      0.000000      1.000000        3.000000  \n",
       "50%        0.000000      0.000000      1.000000      2.000000        8.000000  \n",
       "75%        0.000000      1.000000      1.000000      3.000000       21.000000  \n",
       "max        1.000000      1.000000      1.000000      5.000000      178.000000  "
      ]
     },
     "execution_count": 27,
     "metadata": {},
     "output_type": "execute_result"
    }
   ],
   "source": [
    "no_show.describe()"
   ]
  },
  {
   "cell_type": "code",
   "execution_count": 18,
   "metadata": {},
   "outputs": [
    {
     "data": {
      "text/plain": [
       "(71409, 15)"
      ]
     },
     "execution_count": 18,
     "metadata": {},
     "output_type": "execute_result"
    }
   ],
   "source": [
    "# check to see how many rows are left\n",
    "no_show.shape"
   ]
  },
  {
   "cell_type": "markdown",
   "metadata": {},
   "source": [
    "After succeeding with getting the time difference and eliminating time that are negative. There are 71409 rows of value left to work with. Although majority of patients had 21 days before their appointment where some others either got their appointment that same day, or had to wait for 178 days, the average duration to wait from scheduling to being given an appointment is 15 days."
   ]
  },
  {
   "cell_type": "code",
   "execution_count": null,
   "metadata": {},
   "outputs": [],
   "source": []
  },
  {
   "cell_type": "markdown",
   "metadata": {},
   "source": [
    "<a id='eda'></a>\n",
    "## Exploratory Data Analysis"
   ]
  },
  {
   "cell_type": "code",
   "execution_count": 19,
   "metadata": {},
   "outputs": [],
   "source": [
    "# create a mask for those who showed up and those who didn't\n",
    "showed = no_show.showed_up == 1\n",
    "no_showed = no_show.showed_up == 0"
   ]
  },
  {
   "cell_type": "code",
   "execution_count": 20,
   "metadata": {},
   "outputs": [
    {
     "data": {
      "text/plain": [
       "(51092, 20317)"
      ]
     },
     "execution_count": 20,
     "metadata": {},
     "output_type": "execute_result"
    }
   ],
   "source": [
    "# get the count of those who made it and those who did not make it\n",
    "no_show[showed].shape[0], no_show[no_showed].shape[0]"
   ]
  },
  {
   "cell_type": "code",
   "execution_count": 21,
   "metadata": {},
   "outputs": [
    {
     "data": {
      "text/plain": [
       "(0.28451595737232, 0.71548404262768)"
      ]
     },
     "execution_count": 21,
     "metadata": {},
     "output_type": "execute_result"
    }
   ],
   "source": [
    "no_show[no_showed].shape[0] / no_show.shape[0], no_show[showed].shape[0] / no_show.shape[0]"
   ]
  },
  {
   "cell_type": "code",
   "execution_count": 22,
   "metadata": {},
   "outputs": [
    {
     "data": {
      "image/png": "[encoded data removed]",
      "text/plain": [
       "<Figure size 1440x864 with 12 Axes>"
      ]
     },
     "metadata": {
      "needs_background": "light"
     },
     "output_type": "display_data"
    }
   ],
   "source": [
    "no_show.hist(figsize=(20,12));"
   ]
  },
  {
   "cell_type": "markdown",
   "metadata": {},
   "source": [
    "- Majority of the patients are within 0 to 55 years of age\n",
    "- A large proportion of them are not on scholarship The highest health condition are those with hypertension\n",
    "- Majority of the patients did not receive SMS reminder for their appoinment\n",
    "- A large percentage showed for their appointment\n",
    "- Tuesday and Wednesday are peak days when most appointments were scheduled"
   ]
  },
  {
   "cell_type": "markdown",
   "metadata": {},
   "source": [
    " "
   ]
  },
  {
   "cell_type": "markdown",
   "metadata": {},
   "source": [
    "### Research Question 1 : Does receiving SMS increase a patient's chance of making it to their appointment?"
   ]
  },
  {
   "cell_type": "code",
   "execution_count": 23,
   "metadata": {},
   "outputs": [
    {
     "data": {
      "image/png": "[encoded data removed]",
      "text/plain": [
       "<Figure size 432x288 with 1 Axes>"
      ]
     },
     "metadata": {},
     "output_type": "display_data"
    }
   ],
   "source": [
    "# plot of those who received sms to those who did not receive sms\n",
    "plt.pie(no_show.sms_received.value_counts(), labels=['Did not Receive SMS', 'Received SMS'], autopct=\"%.2f%%\")\n",
    "plt.axis('equal');"
   ]
  },
  {
   "cell_type": "markdown",
   "metadata": {},
   "source": [
    "From the pie chart, it can be seen that 50.31% of the population did not receive an SMS for their appointment, while 49.69% did received an SMS. Let us do further analysis into how many of those who got an SMS showed up and those who did not get an sms but yet made it to their appointment."
   ]
  },
  {
   "cell_type": "code",
   "execution_count": 24,
   "metadata": {},
   "outputs": [],
   "source": [
    "# create a mask for those who received sms and those who didn't \n",
    "not_received_sms = no_show.query(\"sms_received == 0\")\n",
    "received_sms = no_show.query(\"sms_received == 1\")"
   ]
  },
  {
   "cell_type": "code",
   "execution_count": 25,
   "metadata": {},
   "outputs": [
    {
     "data": {
      "text/plain": [
       "sms_received  showed_up\n",
       "0             0            10533\n",
       "              1            25394\n",
       "1             0             9784\n",
       "              1            25698\n",
       "Name: sms_received, dtype: int64"
      ]
     },
     "execution_count": 25,
     "metadata": {},
     "output_type": "execute_result"
    }
   ],
   "source": [
    "no_show.groupby(['sms_received', 'showed_up'])['sms_received'].count()"
   ]
  },
  {
   "cell_type": "code",
   "execution_count": 109,
   "metadata": {},
   "outputs": [
    {
     "data": {
      "text/plain": [
       "27.574544839637"
      ]
     },
     "execution_count": 109,
     "metadata": {},
     "output_type": "execute_result"
    }
   ],
   "source": [
    "# calculate percentage that received sms but missed their appointment\n",
    "sms_noshow = (9784/received_sms.value_counts().sum())*100\n",
    "sms_noshow"
   ]
  },
  {
   "cell_type": "code",
   "execution_count": 108,
   "metadata": {},
   "outputs": [
    {
     "data": {
      "text/plain": [
       "72.425455160363"
      ]
     },
     "execution_count": 108,
     "metadata": {},
     "output_type": "execute_result"
    }
   ],
   "source": [
    "# calculate percentage that received sms and came for their appointment\n",
    "sms_show = (25698/received_sms.value_counts().sum())*100\n",
    "sms_show"
   ]
  },
  {
   "cell_type": "code",
   "execution_count": 102,
   "metadata": {},
   "outputs": [
    {
     "data": {
      "text/plain": [
       "29.317783282767834"
      ]
     },
     "execution_count": 102,
     "metadata": {},
     "output_type": "execute_result"
    }
   ],
   "source": [
    "# calculate percentage that did not receive sms but missed their appointment\n",
    "nosms_noshow = (10533/not_received_sms.value_counts().sum())*100\n",
    "nosms_noshow"
   ]
  },
  {
   "cell_type": "code",
   "execution_count": 100,
   "metadata": {},
   "outputs": [
    {
     "data": {
      "text/plain": [
       "70.68221671723217"
      ]
     },
     "execution_count": 100,
     "metadata": {},
     "output_type": "execute_result"
    }
   ],
   "source": [
    "# calculate percentage that did not receive sms but came for their appointment\n",
    "nosms_show = (25394/not_received_sms.value_counts().sum())*100\n",
    "nosms_show"
   ]
  },
  {
   "cell_type": "code",
   "execution_count": 26,
   "metadata": {},
   "outputs": [
    {
     "data": {
      "image/png": "[encoded data removed]",
      "text/plain": [
       "<Figure size 576x432 with 1 Axes>"
      ]
     },
     "metadata": {
      "needs_background": "light"
     },
     "output_type": "display_data"
    }
   ],
   "source": [
    "# create a plot of those showing up based on sms receipt\n",
    "sms_showed = pd.crosstab(no_show.iloc[:,11],no_show.iloc[:,12])\n",
    "sms_showed.plot(kind=\"bar\", stacked=False, figsize=(8,6));"
   ]
  },
  {
   "cell_type": "markdown",
   "metadata": {},
   "source": [
    "Of the 72% that came for the appointment, 49.69% received an SMS for their appointment.\n",
    "Looking at the number that received an SMS for their appointment, 72% made it. In all, those that missed their appointments were more (29%) of those who did not receive an sms for their appointment compared to 28% that received SMS but missed the appointment."
   ]
  },
  {
   "cell_type": "code",
   "execution_count": 38,
   "metadata": {},
   "outputs": [
    {
     "data": {
      "text/plain": [
       "gender  sms_received  showed_up\n",
       "F       0             0             6824\n",
       "                      1            16678\n",
       "        1             0             6720\n",
       "                      1            17482\n",
       "M       0             0             3709\n",
       "                      1             8716\n",
       "        1             0             3064\n",
       "                      1             8216\n",
       "Name: gender, dtype: int64"
      ]
     },
     "execution_count": 38,
     "metadata": {},
     "output_type": "execute_result"
    }
   ],
   "source": [
    "# get those that received sms and showed up by gender\n",
    "no_show.groupby(['gender','sms_received', 'showed_up'])['gender'].count()"
   ]
  },
  {
   "cell_type": "markdown",
   "metadata": {},
   "source": [
    "Comparing those who received an SMS and came for their appointment by gender, it revealed that majority of those that received SMS made it."
   ]
  },
  {
   "cell_type": "code",
   "execution_count": 39,
   "metadata": {},
   "outputs": [
    {
     "data": {
      "text/plain": [
       "scholarship  sms_received  showed_up\n",
       "0            0             0             9405\n",
       "                           1            23408\n",
       "             1             0             8600\n",
       "                           1            23377\n",
       "1            0             0             1128\n",
       "                           1             1986\n",
       "             1             0             1184\n",
       "                           1             2321\n",
       "Name: scholarship, dtype: int64"
      ]
     },
     "execution_count": 39,
     "metadata": {},
     "output_type": "execute_result"
    }
   ],
   "source": [
    "# get those under the scholarship scheme that received sms and showed up\n",
    "no_show.groupby(['scholarship','sms_received', 'showed_up'])['scholarship'].count()"
   ]
  },
  {
   "cell_type": "markdown",
   "metadata": {},
   "source": [
    "The scholarship scheme was supposed to help the less priviledged take care of themselves medically and other benefits. However, majority of those who made it to their appointment (23408) despite not receiving SMS are not beneficiaries of the scholarship scheme of the government."
   ]
  },
  {
   "cell_type": "markdown",
   "metadata": {},
   "source": []
  },
  {
   "cell_type": "markdown",
   "metadata": {
    "tags": []
   },
   "source": [
    "### Research Question 2 : Does the presence of a medical condition increase people's chances of meeting up with their appointments?"
   ]
  },
  {
   "cell_type": "code",
   "execution_count": 40,
   "metadata": {},
   "outputs": [],
   "source": [
    "# function to plot each single conditions\n",
    "def bar_plot(variable):\n",
    "\n",
    "    # get feature\n",
    "    var = no_show[variable]\n",
    "    #count number of categorical variable(value/sample)\n",
    "    varValue = var.value_counts()\n",
    "    proportion = varValue/no_show.shape[0]\n",
    "    \n",
    "    #visualize\n",
    "    plt.figure(figsize = (9,3))\n",
    "    plt.bar(varValue.index, varValue)\n",
    "    plt.xticks(varValue.index, varValue.index.values)\n",
    "    plt.ylabel(\"Frequency\")\n",
    "    plt.title(variable)\n",
    "    plt.show()\n",
    "    print(\"{}: \\n {}\".format(variable,varValue))\n",
    "    print(\"{}:\".format(proportion))"
   ]
  },
  {
   "cell_type": "code",
   "execution_count": 41,
   "metadata": {},
   "outputs": [
    {
     "data": {
      "image/png": "[encoded data removed]",
      "text/plain": [
       "<Figure size 648x216 with 1 Axes>"
      ]
     },
     "metadata": {
      "needs_background": "light"
     },
     "output_type": "display_data"
    },
    {
     "name": "stdout",
     "output_type": "stream",
     "text": [
      "hipertension: \n",
      " 0    56485\n",
      "1    14924\n",
      "Name: hipertension, dtype: int64\n",
      "0    0.791007\n",
      "1    0.208993\n",
      "Name: hipertension, dtype: float64:\n"
     ]
    },
    {
     "data": {
      "image/png": "[encoded data removed]",
      "text/plain": [
       "<Figure size 648x216 with 1 Axes>"
      ]
     },
     "metadata": {
      "needs_background": "light"
     },
     "output_type": "display_data"
    },
    {
     "name": "stdout",
     "output_type": "stream",
     "text": [
      "diabetes: \n",
      " 0    66070\n",
      "1     5339\n",
      "Name: diabetes, dtype: int64\n",
      "0    0.925234\n",
      "1    0.074766\n",
      "Name: diabetes, dtype: float64:\n"
     ]
    },
    {
     "data": {
      "image/png": "[encoded data removed]",
      "text/plain": [
       "<Figure size 648x216 with 1 Axes>"
      ]
     },
     "metadata": {
      "needs_background": "light"
     },
     "output_type": "display_data"
    },
    {
     "name": "stdout",
     "output_type": "stream",
     "text": [
      "alcoholism: \n",
      " 0    69603\n",
      "1     1806\n",
      "Name: alcoholism, dtype: int64\n",
      "0    0.974709\n",
      "1    0.025291\n",
      "Name: alcoholism, dtype: float64:\n"
     ]
    }
   ],
   "source": [
    "conditions = [\"hipertension\", \"diabetes\", \"alcoholism\"]\n",
    "for c in conditions:\n",
    "    bar_plot(c)"
   ]
  },
  {
   "cell_type": "code",
   "execution_count": 53,
   "metadata": {},
   "outputs": [
    {
     "name": "stdout",
     "output_type": "stream",
     "text": [
      "hipertension  showed_up\n",
      "0             0            16823\n",
      "              1            39662\n",
      "1             0             3494\n",
      "              1            11430\n",
      "Name: hipertension, dtype: int64\n"
     ]
    }
   ],
   "source": [
    "# function to get the groupings of the hypertensive condition given that they show up or not\n",
    "def groupings(var):\n",
    "    display = no_show.groupby([var, \"showed_up\"])[var].count()\n",
    "    print(display)\n",
    "\n",
    "groupings(\"hipertension\")"
   ]
  },
  {
   "cell_type": "code",
   "execution_count": 50,
   "metadata": {},
   "outputs": [
    {
     "data": {
      "image/png": "[encoded data removed]",
      "text/plain": [
       "<Figure size 576x432 with 1 Axes>"
      ]
     },
     "metadata": {
      "needs_background": "light"
     },
     "output_type": "display_data"
    }
   ],
   "source": [
    "# create a plot of those showing up because they are hypertensive\n",
    "hypertension = pd.crosstab(no_show.iloc[:,7],no_show.iloc[:,12])\n",
    "hypertension.plot(kind=\"bar\", stacked=False, figsize=(8,6));"
   ]
  },
  {
   "cell_type": "code",
   "execution_count": 45,
   "metadata": {},
   "outputs": [],
   "source": [
    "# create a mask for those with hypertension\n",
    "hyper = no_show.hipertension == 1\n",
    "not_hyper = no_show.hipertension == 0"
   ]
  },
  {
   "cell_type": "code",
   "execution_count": 46,
   "metadata": {},
   "outputs": [
    {
     "data": {
      "text/plain": [
       "(0.2089932641543783, 0.7910067358456218)"
      ]
     },
     "execution_count": 46,
     "metadata": {},
     "output_type": "execute_result"
    }
   ],
   "source": [
    "# get proportion of those with hypertension that showed up vs those who did not show up\n",
    "no_show[hyper].shape[0] / no_show.shape[0], no_show[not_hyper].shape[0] / no_show.shape[0]"
   ]
  },
  {
   "cell_type": "code",
   "execution_count": 115,
   "metadata": {},
   "outputs": [
    {
     "data": {
      "text/plain": [
       "hipertension  sms_received  showed_up\n",
       "0             0             0             8584\n",
       "                            1            19289\n",
       "              1             0             8239\n",
       "                            1            20373\n",
       "1             0             0             1949\n",
       "                            1             6105\n",
       "              1             0             1545\n",
       "                            1             5325\n",
       "Name: hipertension, dtype: int64"
      ]
     },
     "execution_count": 115,
     "metadata": {},
     "output_type": "execute_result"
    }
   ],
   "source": [
    "# get the number of hypertensive patients who received an SMS made it or not\n",
    "no_show.groupby(['hipertension', 'sms_received', 'showed_up'])['hipertension'].count()"
   ]
  },
  {
   "cell_type": "code",
   "execution_count": 122,
   "metadata": {},
   "outputs": [
    {
     "data": {
      "text/plain": [
       "hipertension  time_interval  showed_up\n",
       "0             1 week         0             6657\n",
       "                             1            19224\n",
       "              2 weeks        0             2907\n",
       "                             1             6181\n",
       "              3 weeks        0             2303\n",
       "                             1             4516\n",
       "              4 weeks        0             1898\n",
       "                             1             3534\n",
       "              > 1 month      0             3058\n",
       "                             1             6207\n",
       "1             1 week         0             1721\n",
       "                             1             6689\n",
       "              2 weeks        0              554\n",
       "                             1             1459\n",
       "              3 weeks        0              427\n",
       "                             1             1232\n",
       "              4 weeks        0              281\n",
       "                             1              843\n",
       "              > 1 month      0              511\n",
       "                             1             1207\n",
       "Name: hipertension, dtype: int64"
      ]
     },
     "execution_count": 122,
     "metadata": {},
     "output_type": "execute_result"
    }
   ],
   "source": [
    "# get the count of hypertensive patients showing up based on the interval of their appointment\n",
    "no_show.groupby(['hipertension', 'time_interval', 'showed_up'])['hipertension'].count()"
   ]
  },
  {
   "cell_type": "markdown",
   "metadata": {},
   "source": [
    "The interval affected hypertensive patients ability to make it to their appointment. Although it is clear that a large percentage of them always make it irrespective of the duration. "
   ]
  },
  {
   "cell_type": "code",
   "execution_count": 116,
   "metadata": {},
   "outputs": [
    {
     "data": {
      "text/plain": [
       "hipertension  gender\n",
       "0             F         37166\n",
       "              M         19319\n",
       "1             F         10538\n",
       "              M          4386\n",
       "Name: hipertension, dtype: int64"
      ]
     },
     "execution_count": 116,
     "metadata": {},
     "output_type": "execute_result"
    }
   ],
   "source": [
    "# get the count of hypertensive patients based on their gender\n",
    "no_show.groupby(['hipertension', 'gender'])['hipertension'].count()"
   ]
  },
  {
   "cell_type": "code",
   "execution_count": 117,
   "metadata": {},
   "outputs": [
    {
     "data": {
      "text/plain": [
       "hipertension  gender  showed_up\n",
       "0             F       0            11066\n",
       "                      1            26100\n",
       "              M       0             5757\n",
       "                      1            13562\n",
       "1             F       0             2478\n",
       "                      1             8060\n",
       "              M       0             1016\n",
       "                      1             3370\n",
       "Name: hipertension, dtype: int64"
      ]
     },
     "execution_count": 117,
     "metadata": {},
     "output_type": "execute_result"
    }
   ],
   "source": [
    "# count of hypertensive patients based on their gender made it or not to their appoinrment\n",
    "no_show.groupby(['hipertension', 'gender', 'showed_up'])['hipertension'].count()"
   ]
  },
  {
   "cell_type": "markdown",
   "metadata": {},
   "source": [
    "- At 19.7%, <mark>Hypertension</mark> is the most condition the patients have, followed by <mark>Diabetics</mark> at 7.1% and the least is <mark>Alcoholism</mark> at 3.0%. Thus, the bulk of the condition-based analysis is on hypertension.\n",
    "- 10538 (71%) of the hypertensive patients are females.\n",
    "- Out of 14924 hypertensive patients, 11430 made it to their appointment despite that 6105 of these people never got an SMS."
   ]
  },
  {
   "cell_type": "code",
   "execution_count": null,
   "metadata": {},
   "outputs": [],
   "source": []
  },
  {
   "cell_type": "markdown",
   "metadata": {},
   "source": [
    "### Research Question 3 : Does time between booking an appointment and your given date affect the visit?"
   ]
  },
  {
   "cell_type": "code",
   "execution_count": 54,
   "metadata": {},
   "outputs": [],
   "source": [
    "# create an interval of time.\n",
    "# add a new dataframe called **time_interval** and apply the following function\n",
    "def time_interval(var):\n",
    "    if var < 0:\n",
    "        return \"Same Day\"\n",
    "    elif var <=7.0:\n",
    "        return \"1 week\"\n",
    "    elif var > 7.0 and var <= 14.0:\n",
    "        return \"2 weeks\"\n",
    "    elif var >14.0 and var <=21.0:\n",
    "        return \"3 weeks\"\n",
    "    elif var >21.0 and var <=28.0:\n",
    "        return \"4 weeks\"\n",
    "    else:\n",
    "        return \"> 1 month\""
   ]
  },
  {
   "cell_type": "code",
   "execution_count": 55,
   "metadata": {},
   "outputs": [],
   "source": [
    "no_show[\"time_interval\"]=no_show['dateDifference'].apply(time_interval)"
   ]
  },
  {
   "cell_type": "code",
   "execution_count": 83,
   "metadata": {},
   "outputs": [
    {
     "data": {
      "text/plain": [
       "1 week       34291\n",
       "2 weeks      11101\n",
       "> 1 month    10983\n",
       "3 weeks       8478\n",
       "4 weeks       6556\n",
       "Name: time_interval, dtype: int64"
      ]
     },
     "execution_count": 83,
     "metadata": {},
     "output_type": "execute_result"
    }
   ],
   "source": [
    "no_show.time_interval.value_counts()"
   ]
  },
  {
   "cell_type": "code",
   "execution_count": 58,
   "metadata": {},
   "outputs": [
    {
     "data": {
      "image/png": "[encoded data removed]",
      "text/plain": [
       "<Figure size 576x432 with 1 Axes>"
      ]
     },
     "metadata": {
      "needs_background": "light"
     },
     "output_type": "display_data"
    }
   ],
   "source": [
    "# create a plot of those showing up based on time interval\n",
    "time_int = pd.crosstab(no_show.iloc[:,-1], no_show.iloc[:,12])\n",
    "time_int.plot(kind=\"bar\", stacked=False, figsize=(8,6));"
   ]
  },
  {
   "cell_type": "code",
   "execution_count": 59,
   "metadata": {},
   "outputs": [
    {
     "data": {
      "text/plain": [
       "time_interval  sms_received  showed_up\n",
       "1 week         0             0             5229\n",
       "                             1            16074\n",
       "               1             0             3149\n",
       "                             1             9839\n",
       "2 weeks        0             0             1611\n",
       "                             1             3003\n",
       "               1             0             1850\n",
       "                             1             4637\n",
       "3 weeks        0             0             1248\n",
       "                             1             2224\n",
       "               1             0             1482\n",
       "                             1             3524\n",
       "4 weeks        0             0              912\n",
       "                             1             1448\n",
       "               1             0             1267\n",
       "                             1             2929\n",
       "> 1 month      0             0             1533\n",
       "                             1             2645\n",
       "               1             0             2036\n",
       "                             1             4769\n",
       "Name: time_interval, dtype: int64"
      ]
     },
     "execution_count": 59,
     "metadata": {},
     "output_type": "execute_result"
    }
   ],
   "source": [
    "# get those that received sms and showed up by time interval\n",
    "no_show.groupby(['time_interval','sms_received', 'showed_up'])['time_interval'].count()"
   ]
  },
  {
   "cell_type": "code",
   "execution_count": 113,
   "metadata": {},
   "outputs": [
    {
     "name": "stdout",
     "output_type": "stream",
     "text": [
      "                         counts  percentage\n",
      "time_interval showed_up                    \n",
      "1 week        1           25913    0.362881\n",
      "              0            8378    0.117324\n",
      "2 weeks       1            7640    0.106989\n",
      "              0            3461    0.048467\n",
      "3 weeks       1            5748    0.080494\n",
      "              0            2730    0.038230\n",
      "4 weeks       1            4377    0.061295\n",
      "              0            2179    0.030514\n",
      "> 1 month     1            7414    0.103824\n",
      "              0            3569    0.049980\n"
     ]
    }
   ],
   "source": [
    "# get the proportion of those that showed up given the time interval in percentage\n",
    "g = no_show.groupby('time_interval')['showed_up']\n",
    "timeframe = pd.concat([g.value_counts(), g.value_counts().div(71409)], axis=1, keys=('counts','percentage'))\n",
    "print (timeframe)"
   ]
  },
  {
   "cell_type": "code",
   "execution_count": 114,
   "metadata": {},
   "outputs": [
    {
     "name": "stdout",
     "output_type": "stream",
     "text": [
      "                                      counts  percentage\n",
      "time_interval sms_received showed_up                    \n",
      "1 week        0            1           16074    0.225098\n",
      "                           0            5229    0.073226\n",
      "              1            1            9839    0.137784\n",
      "                           0            3149    0.044098\n",
      "2 weeks       0            1            3003    0.042054\n",
      "                           0            1611    0.022560\n",
      "              1            1            4637    0.064936\n",
      "                           0            1850    0.025907\n",
      "3 weeks       0            1            2224    0.031145\n",
      "                           0            1248    0.017477\n",
      "              1            1            3524    0.049350\n",
      "                           0            1482    0.020754\n",
      "4 weeks       0            1            1448    0.020278\n",
      "                           0             912    0.012771\n",
      "              1            1            2929    0.041017\n",
      "                           0            1267    0.017743\n",
      "> 1 month     0            1            2645    0.037040\n",
      "                           0            1533    0.021468\n",
      "              1            1            4769    0.066784\n",
      "                           0            2036    0.028512\n"
     ]
    }
   ],
   "source": [
    "# getting the percentage of those who showed up within the time interval given that they got SMS\n",
    "g = no_show.groupby(['time_interval', 'sms_received'])['showed_up']\n",
    "timeframe = pd.concat([g.value_counts(), g.value_counts().div(71409)], axis=1, keys=('counts','percentage'))\n",
    "print (timeframe)"
   ]
  },
  {
   "cell_type": "markdown",
   "metadata": {},
   "source": [
    "A large portion of the appointments were scheduled within one week (48%). There are those who were scheduled for more than one month (14%). The long appointment duration might be due to the nature of their illness and the number of those seeking the same attention; given limited medical equipment and personnels. However, about 5 percentage of the long duration made it to their appointment whereas 36 percentage of the within one week interval made it.\n",
    "\n",
    "The SMS delivery enabled a large percentage of the one week intervals to show up. This SMS might be seen as a confirmation of their appointment. Also, the intervals of more than one month mad it more when sent an sms for their appointment."
   ]
  },
  {
   "cell_type": "code",
   "execution_count": null,
   "metadata": {},
   "outputs": [],
   "source": []
  },
  {
   "cell_type": "code",
   "execution_count": null,
   "metadata": {},
   "outputs": [],
   "source": []
  },
  {
   "cell_type": "code",
   "execution_count": null,
   "metadata": {},
   "outputs": [],
   "source": []
  },
  {
   "cell_type": "code",
   "execution_count": null,
   "metadata": {},
   "outputs": [],
   "source": []
  },
  {
   "cell_type": "markdown",
   "metadata": {},
   "source": [
    "<a id='conclusions'></a>\n",
    "## Conclusions\n",
    "From the analysis done so far, one can conclude that:\n",
    "- Sending an SMS can increase can increase patient's chances of making it for their appointment.\n",
    "- Patients honour their appointments during weekdays with Monday through Wednesday being the peak days of their appearance.\n",
    "- Having a condition (hypertension here) contributed a lot to making it to the appointment.\n",
    "- The time interval between when an appointment was created an when the patient is to visit the clinic also matters. The longer the interval, the lesser the chances of making it for the appointment.\n",
    "\n",
    "\n",
    "### Limitations\n",
    "- Couldn't determine if distance to the clinic is a factor to missing their appointment due to insufficient data on patient's location and distance from the clinic.\n",
    "- SMS was sent to patient's but we were not told if they were sent as reminders or sent the same day they booked the appointment as a confirmation. Having this could help us explore further for best interval to send reminders."
   ]
  },
  {
   "cell_type": "markdown",
   "metadata": {},
   "source": [
    "### References\n",
    "- [Stackoverflow on getting counts](\n",
    "https://stackoverflow.com/questions/50169311/getting-percentage-and-count-python)\n",
    "- [Plotting multiple variables using a function](https://github.com/ndcharles/SGA08_DATASCI/blob/master/titanic_dataset.ipynb)\n",
    "- [Pandas documentation](https://pandas.pydata.org/docs/)\n",
    "- [Pandas Indexing](https://pandas.pydata.org/docs/user_guide/indexing.html)"
   ]
  }
 ],
 "metadata": {
  "kernelspec": {
   "display_name": "Python 3",
   "language": "python",
   "name": "python3"
  },
  "language_info": {
   "codemirror_mode": {
    "name": "ipython",
    "version": 3
   },
   "file_extension": ".py",
   "mimetype": "text/x-python",
   "name": "python",
   "nbconvert_exporter": "python",
   "pygments_lexer": "ipython3",
   "version": "3.8.1"
  }
 },
 "nbformat": 4,
 "nbformat_minor": 4
}
